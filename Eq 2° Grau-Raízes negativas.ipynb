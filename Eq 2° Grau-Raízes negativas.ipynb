{
 "cells": [
  {
   "cell_type": "code",
   "execution_count": null,
   "metadata": {},
   "outputs": [
    {
     "name": "stdout",
     "output_type": "stream",
     "text": [
      "Valor de a:\n",
      "1\n",
      "Valor de b:\n",
      "0\n",
      "Valor de c:\n",
      "1\n",
      "Delta vale -4\n",
      "Deseja continuar? 0 para Sim, 1 para Não.0\n",
      "Se o Delta for negativo a sua equação não contém raízes reais.\n",
      "_____________________________________________\n",
      "As raízes não pertencem ao conjunto dos Reais\n",
      "Valor de x' é 0.0 + 1.0 i\n",
      "Valor de x'' é 0.0 - 1.0 i\n",
      "Delta vale -4\n"
     ]
    }
   ],
   "source": [
    "import math\n",
    "a = input(\"Valor de a:\\n\")\n",
    "b = input(\"Valor de b:\\n\")\n",
    "c = input(\"Valor de c:\\n\")\n",
    "a=int(a) \n",
    "b=int(b)\n",
    "c=int(c)\n",
    "while True:\n",
    "     if a == b == c == 0 :\n",
    "         print(\"Ta me tirano né >:(\")\n",
    "         break\n",
    "     if a == 0:\n",
    "         if b == 0:\n",
    "             print(\"Ah para né chuchu, a resposta é...nada pq só tem valor de\",c)\n",
    "             break    \n",
    "         if b!= 0:\n",
    "             x=-c/b\n",
    "             print(\"A resposta é\",x)\n",
    "             break\n",
    "     if a != 0:\n",
    "         Delta=(b**2)-4*a*c\n",
    "         print(\"Delta vale\",Delta)\n",
    "         pergunta = input(\"Deseja continuar? 0 para Sim, 1 para Não.\")\n",
    "         print(\"Se o Delta for negativo a sua equação não contém raízes reais.\")\n",
    "         while True:\n",
    "                if pergunta == 1:\n",
    "                    break\n",
    "                if pergunta == 0:\n",
    "                    if Delta >= 0:\n",
    "                        d = math.sqrt(Delta)\n",
    "                        soma=-b+d              \n",
    "                        diminui=-b-d\n",
    "                        x1=soma/(2*a)\n",
    "                        x2=diminui/(2*a)\n",
    "                        print(\"A equação admite raízes reais de valores,\",round(x1, 3) , round(x2, 3))\n",
    "                        break\n",
    "                if Delta < 0:\n",
    "                        d = math.sqrt(Delta*-1)\n",
    "                        b1=-b/(2*a)              \n",
    "                        b2=d/(2*a)                   \n",
    "                        print(\"_____________________________________________\")\n",
    "                        print(\"As raízes não pertencem ao conjunto dos Reais\")\n",
    "                        print(\"Valor de x' é\",round(b1,3), \"+\",round(b2, 3),\"i\")\n",
    "                        print(\"Valor de x'' é\",round(b1, 3), \"-\",round(b2, 3),\"i\")\n",
    "                        break                      "
   ]
  },
  {
   "cell_type": "code",
   "execution_count": null,
   "metadata": {},
   "outputs": [],
   "source": []
  },
  {
   "cell_type": "code",
   "execution_count": null,
   "metadata": {},
   "outputs": [],
   "source": []
  }
 ],
 "metadata": {
  "kernelspec": {
   "display_name": "Python 3",
   "language": "python",
   "name": "python3"
  },
  "language_info": {
   "codemirror_mode": {
    "name": "ipython",
    "version": 3
   },
   "file_extension": ".py",
   "mimetype": "text/x-python",
   "name": "python",
   "nbconvert_exporter": "python",
   "pygments_lexer": "ipython3",
   "version": "3.8.5"
  }
 },
 "nbformat": 4,
 "nbformat_minor": 4
}
