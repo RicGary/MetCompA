{
 "cells": [
  {
   "cell_type": "code",
   "execution_count": 31,
   "metadata": {
    "scrolled": true
   },
   "outputs": [
    {
     "name": "stdout",
     "output_type": "stream",
     "text": [
      "Seu n vale: 10\n",
      "Seu x vale: 0.8\n",
      "0.5832754569346033\n",
      "0.4054651081081643\n"
     ]
    },
    {
     "data": {
      "image/png": "[encoded data removed]",
      "text/plain": [
       "<Figure size 432x288 with 1 Axes>"
      ]
     },
     "metadata": {
      "needs_background": "light"
     },
     "output_type": "display_data"
    }
   ],
   "source": [
    "#feito no jupyter notebook\n",
    "\n",
    "import math as mt ;import matplotlib.pyplot as plt; import numpy as np;import sys\n",
    "\n",
    "def taylor(n,x):\n",
    "    \n",
    "    ln = 1*x ; lista=[]\n",
    "    \n",
    "    lista.append(ln)\n",
    "\n",
    "    \n",
    "    if x>=1:\n",
    "        print(\"╔═════════════════════════╗\")\n",
    "        print(\"║x deve estar entre -1 e 1║\")\n",
    "        print(\"╚═════════════════════════╝\")\n",
    "        sys.exit()\n",
    "    if x<=-1:\n",
    "        print(\"╔═════════════════════════╗\")\n",
    "        print(\"║x deve estar entre -1 e 1║\")\n",
    "        print(\"╚═════════════════════════╝\")\n",
    "        sys.exit()\n",
    "    else:\n",
    "        for i in range(1,n):\n",
    "        \n",
    "            #print(i)\n",
    "        \n",
    "            pn = (-1)**i ; #print(pn)\n",
    "        \n",
    "            px = x**(i+1) ; #print(px)\n",
    "        \n",
    "            pb = (i+1) ; #print(pb)\n",
    "        \n",
    "            #print(arc)\n",
    "\n",
    "            ln = ln + (pn*px)/(pb); #print(ln)\n",
    "\n",
    "            #print('--------------')\n",
    "\n",
    "            lista.append(ln)\n",
    "        \n",
    "    print(lista[-1])\n",
    "    return lista\n",
    "\n",
    "taylor(n = int(input(\"Seu n vale: \")),x = float(input(\"Seu x vale: \"))) #verificar os 3 valores\n",
    "\n",
    "k = np.arange(0,101)\n",
    "    \n",
    "plt.plot(k,taylor(101,0.5))\n",
    "\n",
    "plt.show()"
   ]
  },
  {
   "cell_type": "code",
   "execution_count": null,
   "metadata": {},
   "outputs": [],
   "source": []
  },
  {
   "cell_type": "code",
   "execution_count": null,
   "metadata": {},
   "outputs": [],
   "source": []
  }
 ],
 "metadata": {
  "kernelspec": {
   "display_name": "Python 3",
   "language": "python",
   "name": "python3"
  },
  "language_info": {
   "codemirror_mode": {
    "name": "ipython",
    "version": 3
   },
   "file_extension": ".py",
   "mimetype": "text/x-python",
   "name": "python",
   "nbconvert_exporter": "python",
   "pygments_lexer": "ipython3",
   "version": "3.8.5"
  }
 },
 "nbformat": 4,
 "nbformat_minor": 4
}
