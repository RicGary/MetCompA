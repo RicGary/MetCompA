{
 "cells": [
  {
   "cell_type": "code",
   "execution_count": 50,
   "metadata": {},
   "outputs": [
    {
     "name": "stdout",
     "output_type": "stream",
     "text": [
      "150.0 Desloc.\n",
      "-4.0 aceleração\n",
      "________________\n",
      "149.5163 Desloc.\n",
      "-3.6193 aceleração\n"
     ]
    },
    {
     "data": {
      "text/plain": [
       "(-3.619349672143838, 149.51625819640407)"
      ]
     },
     "execution_count": 50,
     "metadata": {},
     "output_type": "execute_result"
    }
   ],
   "source": [
    "import numpy as np\n",
    "\n",
    "def queda(y0=250,V=20,T=5,t=0): #função queda, função de teste\n",
    "    \n",
    "    Tt= -t/T ; Tt= V*np.exp(Tt)\n",
    "    \n",
    "    #deslocamento\n",
    "    \n",
    "    d=y0-V*t-T*Tt ; print(round(d,4),\"Desloc.\")\n",
    "    \n",
    "    #aceleração\n",
    "    \n",
    "    a=-Tt/T ; print(round(a,4),\"aceleração\")\n",
    "    \n",
    "    return a , d\n",
    "       \n",
    "queda(t=0)\n",
    "print(\"________________\")\n",
    "queda(t=0.5)"
   ]
  },
  {
   "cell_type": "code",
   "execution_count": 112,
   "metadata": {},
   "outputs": [
    {
     "name": "stdout",
     "output_type": "stream",
     "text": [
      "╔════╗\n",
      "│ 1  │ 150.0 Deslocamento\n",
      "│    │ -4.0 Aceleração\n",
      "╚════╝\n",
      "╔════╗\n",
      "│ 2  │ 149.5163 Deslocamento\n",
      "│    │ -3.6193 Aceleração\n",
      "╚════╝\n",
      "╔════╗\n",
      "│ 3  │ 148.1269 Deslocamento\n",
      "│    │ -3.2749 Aceleração\n",
      "╚════╝\n",
      "╔════╗\n",
      "│ 4  │ 145.9182 Deslocamento\n",
      "│    │ -2.9633 Aceleração\n",
      "╚════╝\n",
      "╔════╗\n",
      "│ 5  │ 142.968 Deslocamento\n",
      "│    │ -2.6813 Aceleração\n",
      "╚════╝\n",
      "╔════╗\n",
      "│ 6  │ 139.3469 Deslocamento\n",
      "│    │ -2.4261 Aceleração\n",
      "╚════╝\n",
      "╔════╗\n",
      "│ 7  │ 135.1188 Deslocamento\n",
      "│    │ -2.1952 Aceleração\n",
      "╚════╝\n",
      "╔════╗\n",
      "│ 8  │ 130.3415 Deslocamento\n",
      "│    │ -1.9863 Aceleração\n",
      "╚════╝\n",
      "╔════╗\n",
      "│ 9  │ 125.0671 Deslocamento\n",
      "│    │ -1.7973 Aceleração\n",
      "╚════╝\n",
      "╔════╗\n",
      "│ 10  │ 119.343 Deslocamento\n",
      "│    │ -1.6263 Aceleração\n",
      "╚════╝\n",
      "╔════╗\n",
      "│ 11  │ 113.2121 Deslocamento\n",
      "│    │ -1.4715 Aceleração\n",
      "╚════╝\n",
      "╔════╗\n",
      "│ 12  │ 106.7129 Deslocamento\n",
      "│    │ -1.3315 Aceleração\n",
      "╚════╝\n",
      "╔════╗\n",
      "│ 13  │ 99.8806 Deslocamento\n",
      "│    │ -1.2048 Aceleração\n",
      "╚════╝\n",
      "╔════╗\n",
      "│ 14  │ 92.7468 Deslocamento\n",
      "│    │ -1.0901 Aceleração\n",
      "╚════╝\n",
      "╔════╗\n",
      "│ 15  │ 85.3403 Deslocamento\n",
      "│    │ -0.9864 Aceleração\n",
      "╚════╝\n",
      "╔════╗\n",
      "│ 16  │ 77.687 Deslocamento\n",
      "│    │ -0.8925 Aceleração\n",
      "╚════╝\n",
      "╔════╗\n",
      "│ 17  │ 69.8103 Deslocamento\n",
      "│    │ -0.8076 Aceleração\n",
      "╚════╝\n",
      "╔════╗\n",
      "│ 18  │ 61.7316 Deslocamento\n",
      "│    │ -0.7307 Aceleração\n",
      "╚════╝\n",
      "╔════╗\n",
      "│ 19  │ 53.4701 Deslocamento\n",
      "│    │ -0.6612 Aceleração\n",
      "╚════╝\n",
      "╔════╗\n",
      "│ 20  │ 45.0431 Deslocamento\n",
      "│    │ -0.5983 Aceleração\n",
      "╚════╝\n",
      "[-4.    -3.619 -3.275 -2.963 -2.681 -2.426 -2.195 -1.986 -1.797 -1.626\n",
      " -1.472 -1.331 -1.205 -1.09  -0.986 -0.893 -0.808 -0.731 -0.661 -0.598]\n",
      "[150.    149.516 148.127 145.918 142.968 139.347 135.119 130.341 125.067\n",
      " 119.343 113.212 106.713  99.881  92.747  85.34   77.687  69.81   61.732\n",
      "  53.47   45.043]\n"
     ]
    }
   ],
   "source": [
    "import numpy as np\n",
    "    \n",
    "t=0 ; la=[] ; lb=[] ;intervalo=1\n",
    "\n",
    "while t != 10:\n",
    "    \n",
    "    T=5 ; V=20 ; y0=250 \n",
    "    Tt= -t/T ; Tt= V*np.exp(Tt)\n",
    "    \n",
    "    #deslocamento\n",
    "    \n",
    "    d=y0-V*t-T*Tt\n",
    "    \n",
    "    #aceleração\n",
    "    \n",
    "    a=-Tt/T\n",
    "    \n",
    "    la.append(round(a,3)) ; lb.append(round(d,3))\n",
    "    \n",
    "    print(\"╔════╗\")\n",
    "    print(\"│\",intervalo,\" │\",round(d,4),'Deslocamento')\n",
    "    print(\"│\",\"   │\",round(a,4),\"Aceleração\")\n",
    "    print(\"╚════╝\")\n",
    "    \n",
    "    intervalo=1+intervalo\n",
    "    t=t+0.5\n",
    "acel=np.array(la);desloc=np.array(lb)\n",
    "\n",
    "print(acel)\n",
    "print(desloc)\n"
   ]
  },
  {
   "cell_type": "code",
   "execution_count": null,
   "metadata": {},
   "outputs": [],
   "source": []
  },
  {
   "cell_type": "code",
   "execution_count": null,
   "metadata": {},
   "outputs": [],
   "source": []
  }
 ],
 "metadata": {
  "kernelspec": {
   "display_name": "Python 3",
   "language": "python",
   "name": "python3"
  },
  "language_info": {
   "codemirror_mode": {
    "name": "ipython",
    "version": 3
   },
   "file_extension": ".py",
   "mimetype": "text/x-python",
   "name": "python",
   "nbconvert_exporter": "python",
   "pygments_lexer": "ipython3",
   "version": "3.8.5"
  }
 },
 "nbformat": 4,
 "nbformat_minor": 4
}
