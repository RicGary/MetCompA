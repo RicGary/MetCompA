{
 "cells": [
  {
   "cell_type": "code",
   "execution_count": 5,
   "metadata": {},
   "outputs": [
    {
     "name": "stdout",
     "output_type": "stream",
     "text": [
      "26.565051177077976\n"
     ]
    },
    {
     "data": {
      "image/png": "[encoded data removed]",
      "text/plain": [
       "<Figure size 432x288 with 1 Axes>"
      ]
     },
     "metadata": {
      "needs_background": "light"
     },
     "output_type": "display_data"
    }
   ],
   "source": [
    "#feito no jupyter notebook\n",
    "\n",
    "import math as mt ;import matplotlib.pyplot as plt; import numpy as np\n",
    "\n",
    "def taylor(n,x):\n",
    "\n",
    "    arc = 1*x ; lista=[]\n",
    "    \n",
    "    lista.append(arc)\n",
    "\n",
    "    for i in range(1,n):\n",
    "        \n",
    "        #print(i)\n",
    "        \n",
    "        pn = (-1)**i ; #print(pn)\n",
    "        \n",
    "        px = x**((2*i)+1) ; #print(px)\n",
    "        \n",
    "        pb = ((2*i)+1) ; #print(pb)\n",
    "        \n",
    "        #print(arc)\n",
    "        \n",
    "        arc = arc + (pn*px)/(pb); #print(arc)\n",
    "        \n",
    "        #print('--------------')\n",
    "        \n",
    "        lista.append(arc)\n",
    "        \n",
    "    #rad = lista[-1]\n",
    "    \n",
    "    graus = (180/mt.pi)*lista[-1] ; print(graus)\n",
    "    \n",
    "    return lista\n",
    "\n",
    "#taylor(5,0.5)  #0,463 é o valor de arctg(0,5)= somatório expressão(1) e também é aproximadamente 26.6 graus\n",
    "\n",
    "k = np.arange(0,101)\n",
    "    \n",
    "plt.plot(k,taylor(101,0.5))\n",
    "\n",
    "plt.show()"
   ]
  },
  {
   "cell_type": "code",
   "execution_count": null,
   "metadata": {},
   "outputs": [],
   "source": []
  }
 ],
 "metadata": {
  "kernelspec": {
   "display_name": "Python 3",
   "language": "python",
   "name": "python3"
  },
  "language_info": {
   "codemirror_mode": {
    "name": "ipython",
    "version": 3
   },
   "file_extension": ".py",
   "mimetype": "text/x-python",
   "name": "python",
   "nbconvert_exporter": "python",
   "pygments_lexer": "ipython3",
   "version": "3.8.5"
  }
 },
 "nbformat": 4,
 "nbformat_minor": 4
}
