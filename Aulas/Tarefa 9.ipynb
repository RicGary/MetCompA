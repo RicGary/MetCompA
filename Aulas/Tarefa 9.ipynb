{
 "cells": [
  {
   "cell_type": "code",
   "execution_count": 21,
   "metadata": {},
   "outputs": [
    {
     "data": {
      "text/plain": [
       "10"
      ]
     },
     "execution_count": 21,
     "metadata": {},
     "output_type": "execute_result"
    }
   ],
   "source": [
    "def binomial(n,k):\n",
    "    fatorial = 1 ;fat = {}\n",
    "    fat[0]=1\n",
    "    for i in range(1,n+1): \n",
    "        \n",
    "        fatorial = fatorial * i\n",
    "        \n",
    "        fat[i]=fatorial\n",
    "    \n",
    "    B = fat[n]/(fat[k] * fat[n-k])\n",
    "    \n",
    "    return int(B)\n",
    "    \n",
    "binomial(10,1)"
   ]
  },
  {
   "cell_type": "code",
   "execution_count": 16,
   "metadata": {},
   "outputs": [
    {
     "data": {
      "image/png": "[encoded data removed]",
      "text/plain": [
       "<Figure size 432x288 with 1 Axes>"
      ]
     },
     "metadata": {
      "needs_background": "light"
     },
     "output_type": "display_data"
    }
   ],
   "source": [
    "import matplotlib.pyplot as plt\n",
    "import numpy as np\n",
    "def binomial(n,k):\n",
    "    fatorial = 1 ;fat = {}\n",
    "    fat[0]=1\n",
    "    for i in range(1,n+1): \n",
    "        \n",
    "        fatorial = fatorial * i\n",
    "        \n",
    "        fat[i]=fatorial\n",
    "    \n",
    "    B = fat[n]/(fat[k] * fat[n-k])\n",
    "    \n",
    "    return int(B)\n",
    "\n",
    "list_prob=[]\n",
    "\n",
    "n = 100 \n",
    "\n",
    "k = np.arange(1,n+1)\n",
    "\n",
    "for i in k:\n",
    "\n",
    "    P = binomial(n,i)/2**n\n",
    "\n",
    "    list_prob.append(P)\n",
    "\n",
    "array_prob=np.array(list_prob)\n",
    "    \n",
    "plt.plot(k,array_prob)\n",
    "\n",
    "plt.show()\n",
    "    "
   ]
  },
  {
   "cell_type": "code",
   "execution_count": null,
   "metadata": {},
   "outputs": [],
   "source": [
    "def prob(n):\n",
    "    list_prob=[]\n",
    "\n",
    "    for k in range(1,100):\n",
    "\n",
    "        P = binomial(n,k)/2**n\n",
    "\n",
    "        list_prob.append(P)\n",
    "    return list_prob\n",
    "prob(100"
   ]
  }
 ],
 "metadata": {
  "kernelspec": {
   "display_name": "Python 3",
   "language": "python",
   "name": "python3"
  },
  "language_info": {
   "codemirror_mode": {
    "name": "ipython",
    "version": 3
   },
   "file_extension": ".py",
   "mimetype": "text/x-python",
   "name": "python",
   "nbconvert_exporter": "python",
   "pygments_lexer": "ipython3",
   "version": "3.8.5"
  }
 },
 "nbformat": 4,
 "nbformat_minor": 4
}
