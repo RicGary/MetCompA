{
 "cells": [
  {
   "cell_type": "code",
   "execution_count": 63,
   "metadata": {},
   "outputs": [],
   "source": [
    "def desvio(n):\n",
    "    arr=numero(n)\n",
    "    arr2=(arr-media(n))**2\n",
    "    desvio=np.sqrt(sum(arr2))/(n)\n",
    "    return(5)"
   ]
  },
  {
   "cell_type": "code",
   "execution_count": 99,
   "metadata": {},
   "outputs": [
    {
     "name": "stdout",
     "output_type": "stream",
     "text": [
      "Y: 72\n",
      "Media: 7.2\n",
      "Desvio: 6.36\n",
      "[ 8  4 10  8  4  7  4 11  6 10]\n"
     ]
    }
   ],
   "source": [
    "import numpy as np\n",
    "import math\n",
    "def numero(n=10):\n",
    "    lista=[]\n",
    "    i=0\n",
    "    y_i=0\n",
    "    while i<=n-1:\n",
    "        x_1=np.random.randint(1,7)\n",
    "        #print('x_1 =',x_1)\n",
    "        x_2=np.random.randint(1,7)\n",
    "        #print('x_2 =',x_2)\n",
    "        y_i=+x_1 +x_2 \n",
    "        lista.append(y_i)\n",
    "        \n",
    "        #print('y =',y_i)\n",
    "        i=i+1\n",
    "    arr=np.array(lista)\n",
    "    #Y\n",
    "    \n",
    "    a=sum(arr) ; print(\"Y:\",a)\n",
    "    \n",
    "    #media\n",
    "    \n",
    "    media=a/n ; print(\"Media:\",media)\n",
    "    \n",
    "    #desvio\n",
    "    \n",
    "    desvio=sum((arr[0:n]-media)**2)/n ; print(\"Desvio:\",desvio)\n",
    "    \n",
    "    print(arr)\n",
    "numero(10)"
   ]
  },
  {
   "cell_type": "code",
   "execution_count": 95,
   "metadata": {},
   "outputs": [
    {
     "name": "stdout",
     "output_type": "stream",
     "text": [
      "17 Y\n",
      "8.5 Media\n",
      "2.25 Desvio\n",
      "[ 7 10]\n"
     ]
    },
    {
     "ename": "TypeError",
     "evalue": "'NoneType' object is not iterable",
     "output_type": "error",
     "traceback": [
      "\u001b[1;31m---------------------------------------------------------------------------\u001b[0m",
      "\u001b[1;31mTypeError\u001b[0m                                 Traceback (most recent call last)",
      "\u001b[1;32m<ipython-input-95-51fad3409a13>\u001b[0m in \u001b[0;36m<module>\u001b[1;34m\u001b[0m\n\u001b[0;32m      5\u001b[0m \u001b[1;33m\u001b[0m\u001b[0m\n\u001b[0;32m      6\u001b[0m \u001b[1;33m\u001b[0m\u001b[0m\n\u001b[1;32m----> 7\u001b[1;33m \u001b[0mmedia\u001b[0m\u001b[1;33m(\u001b[0m\u001b[1;36m2\u001b[0m\u001b[1;33m)\u001b[0m\u001b[1;33m\u001b[0m\u001b[1;33m\u001b[0m\u001b[0m\n\u001b[0m",
      "\u001b[1;32m<ipython-input-95-51fad3409a13>\u001b[0m in \u001b[0;36mmedia\u001b[1;34m(n)\u001b[0m\n\u001b[0;32m      1\u001b[0m \u001b[1;32mdef\u001b[0m \u001b[0mmedia\u001b[0m\u001b[1;33m(\u001b[0m\u001b[0mn\u001b[0m\u001b[1;33m)\u001b[0m\u001b[1;33m:\u001b[0m\u001b[1;33m\u001b[0m\u001b[1;33m\u001b[0m\u001b[0m\n\u001b[0;32m      2\u001b[0m     \u001b[0marr\u001b[0m\u001b[1;33m=\u001b[0m\u001b[0mnumero\u001b[0m\u001b[1;33m(\u001b[0m\u001b[0mn\u001b[0m\u001b[1;33m)\u001b[0m\u001b[1;33m\u001b[0m\u001b[1;33m\u001b[0m\u001b[0m\n\u001b[1;32m----> 3\u001b[1;33m     \u001b[0ma\u001b[0m\u001b[1;33m=\u001b[0m\u001b[0msum\u001b[0m\u001b[1;33m(\u001b[0m\u001b[0marr\u001b[0m\u001b[1;33m)\u001b[0m\u001b[1;33m\u001b[0m\u001b[1;33m\u001b[0m\u001b[0m\n\u001b[0m\u001b[0;32m      4\u001b[0m     \u001b[1;32mreturn\u001b[0m\u001b[1;33m(\u001b[0m\u001b[0ma\u001b[0m\u001b[1;33m/\u001b[0m\u001b[0mn\u001b[0m\u001b[1;33m)\u001b[0m\u001b[1;33m\u001b[0m\u001b[1;33m\u001b[0m\u001b[0m\n\u001b[0;32m      5\u001b[0m \u001b[1;33m\u001b[0m\u001b[0m\n",
      "\u001b[1;31mTypeError\u001b[0m: 'NoneType' object is not iterable"
     ]
    }
   ],
   "source": [
    "def media(n):\n",
    "    arr=numero(n)\n",
    "    a=sum(arr)\n",
    "    return(a/n)\n",
    "    \n",
    "    \n",
    "media(2)"
   ]
  },
  {
   "cell_type": "code",
   "execution_count": 100,
   "metadata": {},
   "outputs": [
    {
     "name": "stdout",
     "output_type": "stream",
     "text": [
      "x_1 = 1\n",
      "x_2 = 1\n",
      "y = 2\n",
      "x_1 = 5\n",
      "x_2 = 3\n",
      "y = 8\n",
      "x_1 = 2\n",
      "x_2 = 6\n",
      "y = 8\n"
     ]
    },
    {
     "data": {
      "text/plain": [
       "(6.0, array([2, 8, 8]))"
      ]
     },
     "execution_count": 100,
     "metadata": {},
     "output_type": "execute_result"
    }
   ],
   "source": [
    "import numpy as np\n",
    "def numero(n):\n",
    "    lista=[]\n",
    "    i=0\n",
    "    y_i=0\n",
    "    while i<=n-1:\n",
    "        x_1=np.random.randint(1,7)\n",
    "        print('x_1 =',x_1)\n",
    "        x_2=np.random.randint(1,7)\n",
    "        print('x_2 =',x_2)\n",
    "        y_i=+x_1 +x_2 \n",
    "        lista.append(y_i) \n",
    "        print('y =',y_i)\n",
    "        i=i+1\n",
    "    arr=np.array(lista)\n",
    "    \n",
    "    return(arr)\n",
    "\n",
    "\n",
    "def media(n):\n",
    "    arr=numero(n)\n",
    "    media=sum(arr)/n\n",
    "    return(media,arr)\n",
    "\n",
    "def desvio(n):\n",
    "    m,a=media(n)\n",
    "    #arr=numero(n)\n",
    "    print('arr',a)\n",
    "    arr2=(a-m)**2\n",
    "    print('arr2',arr2)\n",
    "    desvio=np.sqrt(sum(arr2)/(n))\n",
    "    return(desvio,m)\n",
    "media(3)"
   ]
  },
  {
   "cell_type": "code",
   "execution_count": null,
   "metadata": {},
   "outputs": [],
   "source": []
  }
 ],
 "metadata": {
  "kernelspec": {
   "display_name": "Python 3",
   "language": "python",
   "name": "python3"
  },
  "language_info": {
   "codemirror_mode": {
    "name": "ipython",
    "version": 3
   },
   "file_extension": ".py",
   "mimetype": "text/x-python",
   "name": "python",
   "nbconvert_exporter": "python",
   "pygments_lexer": "ipython3",
   "version": "3.8.5"
  }
 },
 "nbformat": 4,
 "nbformat_minor": 4
}
