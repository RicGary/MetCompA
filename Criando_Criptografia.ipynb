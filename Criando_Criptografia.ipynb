{
 "cells": [
  {
   "cell_type": "code",
   "execution_count": 5,
   "metadata": {},
   "outputs": [
    {
     "name": "stdout",
     "output_type": "stream",
     "text": [
      "!@#$!@#$!@#$@@@@$%#@$%#@$%#@@@@@#### #### #### @@@@$### $### $### @@@@#$$# #$$# #$$# @@@@%@## %@## %@## @@@@#@$% #@$% #@$% \n"
     ]
    }
   ],
   "source": [
    "arquivo = open(\"cript.txt\", \"r+\")\n",
    "dic={'a':'!@#$','b':'$%#@','c':'#### ','d':'$### ','e':'#$$# ','f':'%@## ','g':'#@$% ',' ':'@@@% ','\\n':'@@@@'}\n",
    "linha=[]\n",
    "codigo=[]\n",
    "def cripto(file):\n",
    "    j=0\n",
    "    for i in file:\n",
    "            linha.append(i)\n",
    "            string=''.join(linha)\n",
    "    split2=list(map(lambda i:dic[i],string))\n",
    "    split3=''.join(split2)\n",
    "    split4=split3.split('%%')\n",
    "    for i in split4:\n",
    "        codigo.append([i])\n",
    "    while j<len(codigo):\n",
    "        split5=''.join(codigo[j])\n",
    "        j=j+1\n",
    "        print(split5)\n",
    "        \n",
    "    return\n",
    "        \n",
    "      \n",
    "cripto(arquivo)\n"
   ]
  },
  {
   "cell_type": "code",
   "execution_count": 48,
   "metadata": {},
   "outputs": [
    {
     "name": "stdout",
     "output_type": "stream",
     "text": [
      "eu gosto de nescau\n"
     ]
    }
   ],
   "source": [
    "a = \"eu gosto de todynho\"\n",
    "b = a.replace(\"todynho\",\"nescau\")\n",
    "print(b)"
   ]
  },
  {
   "cell_type": "code",
   "execution_count": 10,
   "metadata": {},
   "outputs": [
    {
     "data": {
      "text/plain": [
       "[<map at 0x19f179c5220>,\n",
       " <map at 0x19f179c5550>,\n",
       " <map at 0x19f179c5f70>,\n",
       " <map at 0x19f179c5e50>,\n",
       " <map at 0x19f179c55e0>,\n",
       " <map at 0x19f179c5460>,\n",
       " <map at 0x19f179c5760>,\n",
       " <map at 0x19f179c56d0>,\n",
       " <map at 0x19f179c5130>,\n",
       " <map at 0x19f179c5310>,\n",
       " <map at 0x19f179c5940>,\n",
       " <map at 0x19f179c5df0>,\n",
       " <map at 0x19f179c53d0>,\n",
       " <map at 0x19f17aa6070>,\n",
       " <map at 0x19f17aa6100>,\n",
       " <map at 0x19f17aa6190>,\n",
       " <map at 0x19f17aa6220>,\n",
       " <map at 0x19f17aa62b0>,\n",
       " <map at 0x19f17aa6340>,\n",
       " <map at 0x19f17aa63d0>,\n",
       " <map at 0x19f17aa6460>]"
      ]
     },
     "execution_count": 10,
     "metadata": {},
     "output_type": "execute_result"
    }
   ],
   "source": [
    "dic={'a':'!@#$','b':'$%#@','c':'#### ','d':'$### ','e':'#$$# ','f':'%@## ','g':'#@$% ',' ':'@@@% ','\\n':'@@@@'}\n",
    "f = open(\"cript.txt\",\"r\")\n",
    "l = f.read().splitlines()\n",
    "\n",
    "caracteres = []\n",
    "for linha in l:\n",
    "    for i in range(len(linha)):\n",
    "        caracteres.append(map(lambda i:dic[i],linha))\n",
    "caracteres"
   ]
  },
  {
   "cell_type": "code",
   "execution_count": null,
   "metadata": {},
   "outputs": [],
   "source": []
  }
 ],
 "metadata": {
  "kernelspec": {
   "display_name": "Python 3",
   "language": "python",
   "name": "python3"
  },
  "language_info": {
   "codemirror_mode": {
    "name": "ipython",
    "version": 3
   },
   "file_extension": ".py",
   "mimetype": "text/x-python",
   "name": "python",
   "nbconvert_exporter": "python",
   "pygments_lexer": "ipython3",
   "version": "3.8.5"
  }
 },
 "nbformat": 4,
 "nbformat_minor": 4
}
