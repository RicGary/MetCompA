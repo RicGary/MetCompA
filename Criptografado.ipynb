{
 "cells": [
  {
   "cell_type": "code",
   "execution_count": 2,
   "metadata": {},
   "outputs": [],
   "source": [
    "with open(\"cript.txt\") as cr:\n",
    "    cr.read()"
   ]
  },
  {
   "cell_type": "code",
   "execution_count": 2,
   "metadata": {},
   "outputs": [
    {
     "name": "stdout",
     "output_type": "stream",
     "text": [
      "aaa\n",
      "bbb\n",
      "ccc\n",
      "ddd\n",
      "eee\n",
      "fff\n",
      "ggg\n"
     ]
    }
   ],
   "source": [
    "cr = open(\"cript.txt\",\"r+\")\n",
    "lista=[]\n",
    "print(cr.read())"
   ]
  },
  {
   "cell_type": "code",
   "execution_count": 1,
   "metadata": {
    "scrolled": true
   },
   "outputs": [
    {
     "name": "stdout",
     "output_type": "stream",
     "text": [
      "[['aaa'], ['bbb'], ['ccc'], ['ddd'], ['eee'], ['fff'], ['ggg']]\n",
      "7\n",
      "['aaa']\n",
      "['bbb']\n",
      "aaa bbb\n",
      "7\n",
      "['a', 'a', 'a', ' ', 'b', 'b', 'b']\n"
     ]
    }
   ],
   "source": [
    "with open('cript.txt','r') as cr:\n",
    "    lista = [[str(entrada) for entrada in line.split()] for line in cr.readlines()]\n",
    "    print(lista)\n",
    "    print(len(lista))\n",
    "    print(lista[0])\n",
    "    print(lista[1])\n",
    "    lista=' '.join(lista[0]+lista[1])\n",
    "    print(lista)\n",
    "    print(len(lista))\n",
    "    lista=list(lista)\n",
    "    print(lista)"
   ]
  },
  {
   "cell_type": "code",
   "execution_count": 103,
   "metadata": {},
   "outputs": [
    {
     "name": "stdout",
     "output_type": "stream",
     "text": [
      "[['aaa'], ['bbb'], ['ccc'], ['ddd'], ['eee'], ['fff'], ['ggg']]\n"
     ]
    }
   ],
   "source": [
    "with open('cript.txt','r+') as cr:\n",
    "    lista = [[str(entrada) for entrada in line.split()] for line in cr.readlines()]\n",
    "    print(lista)"
   ]
  },
  {
   "cell_type": "code",
   "execution_count": null,
   "metadata": {},
   "outputs": [],
   "source": []
  }
 ],
 "metadata": {
  "kernelspec": {
   "display_name": "Python 3",
   "language": "python",
   "name": "python3"
  },
  "language_info": {
   "codemirror_mode": {
    "name": "ipython",
    "version": 3
   },
   "file_extension": ".py",
   "mimetype": "text/x-python",
   "name": "python",
   "nbconvert_exporter": "python",
   "pygments_lexer": "ipython3",
   "version": "3.8.5"
  }
 },
 "nbformat": 4,
 "nbformat_minor": 4
}
